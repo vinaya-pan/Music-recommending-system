{
 "cells": [
  {
   "cell_type": "code",
   "execution_count": 1,
   "id": "6ca6fcc7-fae9-467b-a12d-7c7e3f8f44bb",
   "metadata": {},
   "outputs": [],
   "source": [
    "\n",
    "import pandas as pd"
   ]
  },
  {
   "cell_type": "code",
   "execution_count": 2,
   "id": "c6e054f4-af42-4b96-b124-436e5dc7d262",
   "metadata": {},
   "outputs": [
    {
     "name": "stdout",
     "output_type": "stream",
     "text": [
      "Requirement already satisfied: spotify in c:\\users\\vinay\\appdata\\local\\programs\\python\\python312\\lib\\site-packages (0.10.2)\n",
      "Requirement already satisfied: aiohttp<4.0,>=3.6 in c:\\users\\vinay\\appdata\\local\\programs\\python\\python312\\lib\\site-packages (from spotify) (3.9.5)\n",
      "Requirement already satisfied: backoff<2.0.0,>=1.10.0 in c:\\users\\vinay\\appdata\\local\\programs\\python\\python312\\lib\\site-packages (from spotify) (1.11.1)\n",
      "Requirement already satisfied: aiosignal>=1.1.2 in c:\\users\\vinay\\appdata\\local\\programs\\python\\python312\\lib\\site-packages (from aiohttp<4.0,>=3.6->spotify) (1.3.1)\n",
      "Requirement already satisfied: attrs>=17.3.0 in c:\\users\\vinay\\appdata\\local\\programs\\python\\python312\\lib\\site-packages (from aiohttp<4.0,>=3.6->spotify) (23.1.0)\n",
      "Requirement already satisfied: frozenlist>=1.1.1 in c:\\users\\vinay\\appdata\\local\\programs\\python\\python312\\lib\\site-packages (from aiohttp<4.0,>=3.6->spotify) (1.4.1)\n",
      "Requirement already satisfied: multidict<7.0,>=4.5 in c:\\users\\vinay\\appdata\\local\\programs\\python\\python312\\lib\\site-packages (from aiohttp<4.0,>=3.6->spotify) (6.0.5)\n",
      "Requirement already satisfied: yarl<2.0,>=1.0 in c:\\users\\vinay\\appdata\\local\\programs\\python\\python312\\lib\\site-packages (from aiohttp<4.0,>=3.6->spotify) (1.9.4)\n",
      "Requirement already satisfied: idna>=2.0 in c:\\users\\vinay\\appdata\\local\\programs\\python\\python312\\lib\\site-packages (from yarl<2.0,>=1.0->aiohttp<4.0,>=3.6->spotify) (3.4)\n",
      "Note: you may need to restart the kernel to use updated packages.\n"
     ]
    },
    {
     "name": "stderr",
     "output_type": "stream",
     "text": [
      "\n",
      "[notice] A new release of pip is available: 24.0 -> 24.2\n",
      "[notice] To update, run: C:\\Users\\vinay\\AppData\\Local\\Programs\\Python\\Python312\\python.exe -m pip install --upgrade pip\n"
     ]
    }
   ],
   "source": [
    "%pip install spotify"
   ]
  },
  {
   "cell_type": "code",
   "execution_count": 4,
   "id": "6f7000cc-904b-4341-aeab-8f548a22d439",
   "metadata": {},
   "outputs": [],
   "source": [
    "df = pd.read_csv(\"spotify_millsongdata.csv\")"
   ]
  },
  {
   "cell_type": "code",
   "execution_count": 5,
   "id": "5adde7ee-e853-400d-a4c4-2bd5245cfc74",
   "metadata": {},
   "outputs": [
    {
     "data": {
      "text/html": [
       "<div>\n",
       "<style scoped>\n",
       "    .dataframe tbody tr th:only-of-type {\n",
       "        vertical-align: middle;\n",
       "    }\n",
       "\n",
       "    .dataframe tbody tr th {\n",
       "        vertical-align: top;\n",
       "    }\n",
       "\n",
       "    .dataframe thead th {\n",
       "        text-align: right;\n",
       "    }\n",
       "</style>\n",
       "<table border=\"1\" class=\"dataframe\">\n",
       "  <thead>\n",
       "    <tr style=\"text-align: right;\">\n",
       "      <th></th>\n",
       "      <th>artist</th>\n",
       "      <th>song</th>\n",
       "      <th>link</th>\n",
       "      <th>text</th>\n",
       "    </tr>\n",
       "  </thead>\n",
       "  <tbody>\n",
       "    <tr>\n",
       "      <th>0</th>\n",
       "      <td>ABBA</td>\n",
       "      <td>Ahe's My Kind Of Girl</td>\n",
       "      <td>/a/abba/ahes+my+kind+of+girl_20598417.html</td>\n",
       "      <td>Look at her face, it's a wonderful face  \\r\\nA...</td>\n",
       "    </tr>\n",
       "    <tr>\n",
       "      <th>1</th>\n",
       "      <td>ABBA</td>\n",
       "      <td>Andante, Andante</td>\n",
       "      <td>/a/abba/andante+andante_20002708.html</td>\n",
       "      <td>Take it easy with me, please  \\r\\nTouch me gen...</td>\n",
       "    </tr>\n",
       "    <tr>\n",
       "      <th>2</th>\n",
       "      <td>ABBA</td>\n",
       "      <td>As Good As New</td>\n",
       "      <td>/a/abba/as+good+as+new_20003033.html</td>\n",
       "      <td>I'll never know why I had to go  \\r\\nWhy I had...</td>\n",
       "    </tr>\n",
       "    <tr>\n",
       "      <th>3</th>\n",
       "      <td>ABBA</td>\n",
       "      <td>Bang</td>\n",
       "      <td>/a/abba/bang_20598415.html</td>\n",
       "      <td>Making somebody happy is a question of give an...</td>\n",
       "    </tr>\n",
       "    <tr>\n",
       "      <th>4</th>\n",
       "      <td>ABBA</td>\n",
       "      <td>Bang-A-Boomerang</td>\n",
       "      <td>/a/abba/bang+a+boomerang_20002668.html</td>\n",
       "      <td>Making somebody happy is a question of give an...</td>\n",
       "    </tr>\n",
       "    <tr>\n",
       "      <th>5</th>\n",
       "      <td>ABBA</td>\n",
       "      <td>Burning My Bridges</td>\n",
       "      <td>/a/abba/burning+my+bridges_20003011.html</td>\n",
       "      <td>Well, you hoot and you holler and you make me ...</td>\n",
       "    </tr>\n",
       "    <tr>\n",
       "      <th>6</th>\n",
       "      <td>ABBA</td>\n",
       "      <td>Cassandra</td>\n",
       "      <td>/a/abba/cassandra_20002811.html</td>\n",
       "      <td>Down in the street they're all singing and sho...</td>\n",
       "    </tr>\n",
       "    <tr>\n",
       "      <th>7</th>\n",
       "      <td>ABBA</td>\n",
       "      <td>Chiquitita</td>\n",
       "      <td>/a/abba/chiquitita_20002978.html</td>\n",
       "      <td>Chiquitita, tell me what's wrong  \\r\\nYou're e...</td>\n",
       "    </tr>\n",
       "    <tr>\n",
       "      <th>8</th>\n",
       "      <td>ABBA</td>\n",
       "      <td>Crazy World</td>\n",
       "      <td>/a/abba/crazy+world_20003013.html</td>\n",
       "      <td>I was out with the morning sun  \\r\\nCouldn't s...</td>\n",
       "    </tr>\n",
       "    <tr>\n",
       "      <th>9</th>\n",
       "      <td>ABBA</td>\n",
       "      <td>Crying Over You</td>\n",
       "      <td>/a/abba/crying+over+you_20177611.html</td>\n",
       "      <td>I'm waitin' for you baby  \\r\\nI'm sitting all ...</td>\n",
       "    </tr>\n",
       "    <tr>\n",
       "      <th>10</th>\n",
       "      <td>ABBA</td>\n",
       "      <td>Dance</td>\n",
       "      <td>/a/abba/dance_10001507.html</td>\n",
       "      <td>Oh, my love it makes me sad.  \\r\\nWhy did thin...</td>\n",
       "    </tr>\n",
       "    <tr>\n",
       "      <th>11</th>\n",
       "      <td>ABBA</td>\n",
       "      <td>Dancing Queen</td>\n",
       "      <td>/a/abba/dancing+queen_20002554.html</td>\n",
       "      <td>You can dance, you can jive, having the time o...</td>\n",
       "    </tr>\n",
       "    <tr>\n",
       "      <th>12</th>\n",
       "      <td>ABBA</td>\n",
       "      <td>Disillusion</td>\n",
       "      <td>/a/abba/disillusion_20002786.html</td>\n",
       "      <td>Changing, moving in a circle  \\r\\nI can see yo...</td>\n",
       "    </tr>\n",
       "    <tr>\n",
       "      <th>13</th>\n",
       "      <td>ABBA</td>\n",
       "      <td>Does Your Mother Know</td>\n",
       "      <td>/a/abba/does+your+mother+know_20003035.html</td>\n",
       "      <td>You're so hot, teasing me  \\r\\nSo you're blue ...</td>\n",
       "    </tr>\n",
       "    <tr>\n",
       "      <th>14</th>\n",
       "      <td>ABBA</td>\n",
       "      <td>Dream World</td>\n",
       "      <td>/a/abba/dream+world_20003014.html</td>\n",
       "      <td>Agnetha We're not the stars of a Hollywood mov...</td>\n",
       "    </tr>\n",
       "    <tr>\n",
       "      <th>15</th>\n",
       "      <td>ABBA</td>\n",
       "      <td>Dum Dum Diddle</td>\n",
       "      <td>/a/abba/dum+dum+diddle_20002555.html</td>\n",
       "      <td>I can hear how you work, practising hard  \\r\\n...</td>\n",
       "    </tr>\n",
       "    <tr>\n",
       "      <th>16</th>\n",
       "      <td>ABBA</td>\n",
       "      <td>Eagle</td>\n",
       "      <td>/a/abba/eagle_20002818.html</td>\n",
       "      <td>They came flying from far away, now I'm under ...</td>\n",
       "    </tr>\n",
       "    <tr>\n",
       "      <th>17</th>\n",
       "      <td>ABBA</td>\n",
       "      <td>Every Good Man</td>\n",
       "      <td>/a/abba/every+good+man_20336091.html</td>\n",
       "      <td>Every good man needs a helping hand  \\r\\nso I ...</td>\n",
       "    </tr>\n",
       "    <tr>\n",
       "      <th>18</th>\n",
       "      <td>ABBA</td>\n",
       "      <td>Fernando</td>\n",
       "      <td>/a/abba/fernando_20002896.html</td>\n",
       "      <td>Can you hear the drums Fernando?  \\r\\nI rememb...</td>\n",
       "    </tr>\n",
       "    <tr>\n",
       "      <th>19</th>\n",
       "      <td>ABBA</td>\n",
       "      <td>Fernando (In Spanish)</td>\n",
       "      <td>/a/abba/fernando+in+spanish_20930420.html</td>\n",
       "      <td>Puedes escuchar Fernando?  \\r\\nMe recuerda tie...</td>\n",
       "    </tr>\n",
       "    <tr>\n",
       "      <th>20</th>\n",
       "      <td>ABBA</td>\n",
       "      <td>Free As A Bumble Bee</td>\n",
       "      <td>/a/abba/free+as+a+bumble+bee_20003016.html</td>\n",
       "      <td>I'm down and I feel depressed  \\r\\nSitting her...</td>\n",
       "    </tr>\n",
       "  </tbody>\n",
       "</table>\n",
       "</div>"
      ],
      "text/plain": [
       "   artist                   song                                         link  \\\n",
       "0    ABBA  Ahe's My Kind Of Girl   /a/abba/ahes+my+kind+of+girl_20598417.html   \n",
       "1    ABBA       Andante, Andante        /a/abba/andante+andante_20002708.html   \n",
       "2    ABBA         As Good As New         /a/abba/as+good+as+new_20003033.html   \n",
       "3    ABBA                   Bang                   /a/abba/bang_20598415.html   \n",
       "4    ABBA       Bang-A-Boomerang       /a/abba/bang+a+boomerang_20002668.html   \n",
       "5    ABBA     Burning My Bridges     /a/abba/burning+my+bridges_20003011.html   \n",
       "6    ABBA              Cassandra              /a/abba/cassandra_20002811.html   \n",
       "7    ABBA             Chiquitita             /a/abba/chiquitita_20002978.html   \n",
       "8    ABBA            Crazy World            /a/abba/crazy+world_20003013.html   \n",
       "9    ABBA        Crying Over You        /a/abba/crying+over+you_20177611.html   \n",
       "10   ABBA                  Dance                  /a/abba/dance_10001507.html   \n",
       "11   ABBA          Dancing Queen          /a/abba/dancing+queen_20002554.html   \n",
       "12   ABBA            Disillusion            /a/abba/disillusion_20002786.html   \n",
       "13   ABBA  Does Your Mother Know  /a/abba/does+your+mother+know_20003035.html   \n",
       "14   ABBA            Dream World            /a/abba/dream+world_20003014.html   \n",
       "15   ABBA         Dum Dum Diddle         /a/abba/dum+dum+diddle_20002555.html   \n",
       "16   ABBA                  Eagle                  /a/abba/eagle_20002818.html   \n",
       "17   ABBA         Every Good Man         /a/abba/every+good+man_20336091.html   \n",
       "18   ABBA               Fernando               /a/abba/fernando_20002896.html   \n",
       "19   ABBA  Fernando (In Spanish)    /a/abba/fernando+in+spanish_20930420.html   \n",
       "20   ABBA   Free As A Bumble Bee   /a/abba/free+as+a+bumble+bee_20003016.html   \n",
       "\n",
       "                                                 text  \n",
       "0   Look at her face, it's a wonderful face  \\r\\nA...  \n",
       "1   Take it easy with me, please  \\r\\nTouch me gen...  \n",
       "2   I'll never know why I had to go  \\r\\nWhy I had...  \n",
       "3   Making somebody happy is a question of give an...  \n",
       "4   Making somebody happy is a question of give an...  \n",
       "5   Well, you hoot and you holler and you make me ...  \n",
       "6   Down in the street they're all singing and sho...  \n",
       "7   Chiquitita, tell me what's wrong  \\r\\nYou're e...  \n",
       "8   I was out with the morning sun  \\r\\nCouldn't s...  \n",
       "9   I'm waitin' for you baby  \\r\\nI'm sitting all ...  \n",
       "10  Oh, my love it makes me sad.  \\r\\nWhy did thin...  \n",
       "11  You can dance, you can jive, having the time o...  \n",
       "12  Changing, moving in a circle  \\r\\nI can see yo...  \n",
       "13  You're so hot, teasing me  \\r\\nSo you're blue ...  \n",
       "14  Agnetha We're not the stars of a Hollywood mov...  \n",
       "15  I can hear how you work, practising hard  \\r\\n...  \n",
       "16  They came flying from far away, now I'm under ...  \n",
       "17  Every good man needs a helping hand  \\r\\nso I ...  \n",
       "18  Can you hear the drums Fernando?  \\r\\nI rememb...  \n",
       "19  Puedes escuchar Fernando?  \\r\\nMe recuerda tie...  \n",
       "20  I'm down and I feel depressed  \\r\\nSitting her...  "
      ]
     },
     "execution_count": 5,
     "metadata": {},
     "output_type": "execute_result"
    }
   ],
   "source": [
    "df.head(21)"
   ]
  },
  {
   "cell_type": "code",
   "execution_count": 6,
   "id": "e3bae5e9-d524-49fd-8393-99daef84f4a4",
   "metadata": {},
   "outputs": [
    {
     "data": {
      "text/html": [
       "<div>\n",
       "<style scoped>\n",
       "    .dataframe tbody tr th:only-of-type {\n",
       "        vertical-align: middle;\n",
       "    }\n",
       "\n",
       "    .dataframe tbody tr th {\n",
       "        vertical-align: top;\n",
       "    }\n",
       "\n",
       "    .dataframe thead th {\n",
       "        text-align: right;\n",
       "    }\n",
       "</style>\n",
       "<table border=\"1\" class=\"dataframe\">\n",
       "  <thead>\n",
       "    <tr style=\"text-align: right;\">\n",
       "      <th></th>\n",
       "      <th>artist</th>\n",
       "      <th>song</th>\n",
       "      <th>link</th>\n",
       "      <th>text</th>\n",
       "    </tr>\n",
       "  </thead>\n",
       "  <tbody>\n",
       "    <tr>\n",
       "      <th>57645</th>\n",
       "      <td>Ziggy Marley</td>\n",
       "      <td>Good Old Days</td>\n",
       "      <td>/z/ziggy+marley/good+old+days_10198588.html</td>\n",
       "      <td>Irie days come on play  \\r\\nLet the angels fly...</td>\n",
       "    </tr>\n",
       "    <tr>\n",
       "      <th>57646</th>\n",
       "      <td>Ziggy Marley</td>\n",
       "      <td>Hand To Mouth</td>\n",
       "      <td>/z/ziggy+marley/hand+to+mouth_20531167.html</td>\n",
       "      <td>Power to the workers  \\r\\nMore power  \\r\\nPowe...</td>\n",
       "    </tr>\n",
       "    <tr>\n",
       "      <th>57647</th>\n",
       "      <td>Zwan</td>\n",
       "      <td>Come With Me</td>\n",
       "      <td>/z/zwan/come+with+me_20148981.html</td>\n",
       "      <td>all you need  \\r\\nis something i'll believe  \\...</td>\n",
       "    </tr>\n",
       "    <tr>\n",
       "      <th>57648</th>\n",
       "      <td>Zwan</td>\n",
       "      <td>Desire</td>\n",
       "      <td>/z/zwan/desire_20148986.html</td>\n",
       "      <td>northern star  \\r\\nam i frightened  \\r\\nwhere ...</td>\n",
       "    </tr>\n",
       "    <tr>\n",
       "      <th>57649</th>\n",
       "      <td>Zwan</td>\n",
       "      <td>Heartsong</td>\n",
       "      <td>/z/zwan/heartsong_20148991.html</td>\n",
       "      <td>come in  \\r\\nmake yourself at home  \\r\\ni'm a ...</td>\n",
       "    </tr>\n",
       "  </tbody>\n",
       "</table>\n",
       "</div>"
      ],
      "text/plain": [
       "             artist           song  \\\n",
       "57645  Ziggy Marley  Good Old Days   \n",
       "57646  Ziggy Marley  Hand To Mouth   \n",
       "57647          Zwan   Come With Me   \n",
       "57648          Zwan         Desire   \n",
       "57649          Zwan      Heartsong   \n",
       "\n",
       "                                              link  \\\n",
       "57645  /z/ziggy+marley/good+old+days_10198588.html   \n",
       "57646  /z/ziggy+marley/hand+to+mouth_20531167.html   \n",
       "57647           /z/zwan/come+with+me_20148981.html   \n",
       "57648                 /z/zwan/desire_20148986.html   \n",
       "57649              /z/zwan/heartsong_20148991.html   \n",
       "\n",
       "                                                    text  \n",
       "57645  Irie days come on play  \\r\\nLet the angels fly...  \n",
       "57646  Power to the workers  \\r\\nMore power  \\r\\nPowe...  \n",
       "57647  all you need  \\r\\nis something i'll believe  \\...  \n",
       "57648  northern star  \\r\\nam i frightened  \\r\\nwhere ...  \n",
       "57649  come in  \\r\\nmake yourself at home  \\r\\ni'm a ...  "
      ]
     },
     "execution_count": 6,
     "metadata": {},
     "output_type": "execute_result"
    }
   ],
   "source": [
    "df.tail(5)"
   ]
  },
  {
   "cell_type": "code",
   "execution_count": 8,
   "id": "75205742-8bc0-4ef1-938a-4386728c8f59",
   "metadata": {},
   "outputs": [
    {
     "data": {
      "text/plain": [
       "(57650, 4)"
      ]
     },
     "execution_count": 8,
     "metadata": {},
     "output_type": "execute_result"
    }
   ],
   "source": [
    "df.shape"
   ]
  },
  {
   "cell_type": "code",
   "execution_count": 9,
   "id": "957ca829-17bc-4798-ad7d-0ce1860b0b65",
   "metadata": {},
   "outputs": [
    {
     "data": {
      "text/plain": [
       "artist    0\n",
       "song      0\n",
       "link      0\n",
       "text      0\n",
       "dtype: int64"
      ]
     },
     "execution_count": 9,
     "metadata": {},
     "output_type": "execute_result"
    }
   ],
   "source": [
    "df.isnull().sum()"
   ]
  },
  {
   "cell_type": "code",
   "execution_count": 10,
   "id": "59a58c5c-e9ad-458e-8480-74eeeb323b8c",
   "metadata": {},
   "outputs": [],
   "source": [
    "df =df.sample(5000).drop('link', axis=1).reset_index(drop=True)"
   ]
  },
  {
   "cell_type": "code",
   "execution_count": 11,
   "id": "dd356c01-99c6-4eb3-ad3c-3df260812637",
   "metadata": {},
   "outputs": [
    {
     "data": {
      "text/html": [
       "<div>\n",
       "<style scoped>\n",
       "    .dataframe tbody tr th:only-of-type {\n",
       "        vertical-align: middle;\n",
       "    }\n",
       "\n",
       "    .dataframe tbody tr th {\n",
       "        vertical-align: top;\n",
       "    }\n",
       "\n",
       "    .dataframe thead th {\n",
       "        text-align: right;\n",
       "    }\n",
       "</style>\n",
       "<table border=\"1\" class=\"dataframe\">\n",
       "  <thead>\n",
       "    <tr style=\"text-align: right;\">\n",
       "      <th></th>\n",
       "      <th>artist</th>\n",
       "      <th>song</th>\n",
       "      <th>text</th>\n",
       "    </tr>\n",
       "  </thead>\n",
       "  <tbody>\n",
       "    <tr>\n",
       "      <th>0</th>\n",
       "      <td>Michael W. Smith</td>\n",
       "      <td>All I Want</td>\n",
       "      <td>All I have in this world  \\r\\nIs fire from abo...</td>\n",
       "    </tr>\n",
       "    <tr>\n",
       "      <th>1</th>\n",
       "      <td>Jimi Hendrix</td>\n",
       "      <td>Purple Haze</td>\n",
       "      <td>Purple haze, all in my brain  \\r\\nLately thing...</td>\n",
       "    </tr>\n",
       "    <tr>\n",
       "      <th>2</th>\n",
       "      <td>Meat Loaf</td>\n",
       "      <td>Original Sin</td>\n",
       "      <td>I've been looking for an original sin.  \\r\\nOn...</td>\n",
       "    </tr>\n",
       "    <tr>\n",
       "      <th>3</th>\n",
       "      <td>Gordon Lightfoot</td>\n",
       "      <td>Daylight Katy</td>\n",
       "      <td>She walks be the sea where the seaworld is  \\r...</td>\n",
       "    </tr>\n",
       "    <tr>\n",
       "      <th>4</th>\n",
       "      <td>Dire Straits</td>\n",
       "      <td>On Every Street</td>\n",
       "      <td>There's gotta be a record of you someplace  \\r...</td>\n",
       "    </tr>\n",
       "    <tr>\n",
       "      <th>5</th>\n",
       "      <td>LL Cool J</td>\n",
       "      <td>New York Gangstas</td>\n",
       "      <td>[Chorus:]  \\r\\nOnce I live a life of a million...</td>\n",
       "    </tr>\n",
       "    <tr>\n",
       "      <th>6</th>\n",
       "      <td>Kelly Family</td>\n",
       "      <td>Staying Alive</td>\n",
       "      <td>Pick up yourself Joe  \\r\\nTell all the rest th...</td>\n",
       "    </tr>\n",
       "    <tr>\n",
       "      <th>7</th>\n",
       "      <td>Backstreet Boys</td>\n",
       "      <td>If I Knew Then</td>\n",
       "      <td>Life should be like a game of cards  \\r\\nYou m...</td>\n",
       "    </tr>\n",
       "    <tr>\n",
       "      <th>8</th>\n",
       "      <td>Weird Al Yankovic</td>\n",
       "      <td>Canadian Idiot</td>\n",
       "      <td>Don't want to be a Canadian idiot  \\r\\n  \\r\\nD...</td>\n",
       "    </tr>\n",
       "    <tr>\n",
       "      <th>9</th>\n",
       "      <td>Underworld</td>\n",
       "      <td>Air Towel</td>\n",
       "      <td>[Repeat: x4]  \\r\\nShould I want it? Should I w...</td>\n",
       "    </tr>\n",
       "  </tbody>\n",
       "</table>\n",
       "</div>"
      ],
      "text/plain": [
       "              artist               song  \\\n",
       "0   Michael W. Smith         All I Want   \n",
       "1       Jimi Hendrix        Purple Haze   \n",
       "2          Meat Loaf       Original Sin   \n",
       "3   Gordon Lightfoot      Daylight Katy   \n",
       "4       Dire Straits    On Every Street   \n",
       "5          LL Cool J  New York Gangstas   \n",
       "6       Kelly Family      Staying Alive   \n",
       "7    Backstreet Boys     If I Knew Then   \n",
       "8  Weird Al Yankovic     Canadian Idiot   \n",
       "9         Underworld          Air Towel   \n",
       "\n",
       "                                                text  \n",
       "0  All I have in this world  \\r\\nIs fire from abo...  \n",
       "1  Purple haze, all in my brain  \\r\\nLately thing...  \n",
       "2  I've been looking for an original sin.  \\r\\nOn...  \n",
       "3  She walks be the sea where the seaworld is  \\r...  \n",
       "4  There's gotta be a record of you someplace  \\r...  \n",
       "5  [Chorus:]  \\r\\nOnce I live a life of a million...  \n",
       "6  Pick up yourself Joe  \\r\\nTell all the rest th...  \n",
       "7  Life should be like a game of cards  \\r\\nYou m...  \n",
       "8  Don't want to be a Canadian idiot  \\r\\n  \\r\\nD...  \n",
       "9  [Repeat: x4]  \\r\\nShould I want it? Should I w...  "
      ]
     },
     "execution_count": 11,
     "metadata": {},
     "output_type": "execute_result"
    }
   ],
   "source": [
    "df.head(10)"
   ]
  },
  {
   "cell_type": "code",
   "execution_count": 12,
   "id": "e3aedf61-dcf3-478e-91ef-876da7c9bf0d",
   "metadata": {},
   "outputs": [
    {
     "data": {
      "text/plain": [
       "\"All I have in this world  \\r\\nIs fire from above  \\r\\nAll I have in this world  \\r\\nIs you  \\r\\nAnd all the journeys I have walked  \\r\\nI know you've walked them too  \\r\\nAll I want is to be faithful  \\r\\nAll I want is you  \\r\\n  \\r\\nAll I have is a love  \\r\\nThat set my world on fire  \\r\\nLet it fall, let it burn in me  \\r\\nAnd oh to be a friend of God is all that I desire  \\r\\nAll I want is to be faithful  \\r\\nAll I want is you  \\r\\n  \\r\\nAll I want is you  \\r\\nAll I want is you  \\r\\nAll I want is you  \\r\\nIs you  \\r\\n  \\r\\nAll I have in this world  \\r\\nIs fire from above  \\r\\nAll I have in this world  \\r\\nIs you  \\r\\nAnd all the journeys I have walked  \\r\\nI know you've walked them too  \\r\\nAll I want is to be faithful  \\r\\nAll I want is you  \\r\\n  \\r\\nAll I want is you  \\r\\nAll I want is you  \\r\\nDa, oh oh oh  \\r\\nAll I want is you  \\r\\nIs you\\r\\n\\r\\n\""
      ]
     },
     "execution_count": 12,
     "metadata": {},
     "output_type": "execute_result"
    }
   ],
   "source": [
    "df['text'][0]"
   ]
  },
  {
   "cell_type": "code",
   "execution_count": 13,
   "id": "b6ba39b9-c8f2-47fa-bbdf-298259351468",
   "metadata": {},
   "outputs": [
    {
     "data": {
      "text/plain": [
       "(5000, 3)"
      ]
     },
     "execution_count": 13,
     "metadata": {},
     "output_type": "execute_result"
    }
   ],
   "source": [
    "df.shape"
   ]
  },
  {
   "cell_type": "code",
   "execution_count": 14,
   "id": "696d4e50-40a5-4650-bc5c-f728bfda4c37",
   "metadata": {},
   "outputs": [],
   "source": [
    "df['text'] =df['text'].str.lower().replace(r'^\\w\\s', ' ').replace(r'\\n', ' ', regex = True)"
   ]
  },
  {
   "cell_type": "code",
   "execution_count": 15,
   "id": "7b0cb9cf-4ed2-4692-bf1f-20cf8df19229",
   "metadata": {},
   "outputs": [
    {
     "data": {
      "text/html": [
       "<div>\n",
       "<style scoped>\n",
       "    .dataframe tbody tr th:only-of-type {\n",
       "        vertical-align: middle;\n",
       "    }\n",
       "\n",
       "    .dataframe tbody tr th {\n",
       "        vertical-align: top;\n",
       "    }\n",
       "\n",
       "    .dataframe thead th {\n",
       "        text-align: right;\n",
       "    }\n",
       "</style>\n",
       "<table border=\"1\" class=\"dataframe\">\n",
       "  <thead>\n",
       "    <tr style=\"text-align: right;\">\n",
       "      <th></th>\n",
       "      <th>artist</th>\n",
       "      <th>song</th>\n",
       "      <th>text</th>\n",
       "    </tr>\n",
       "  </thead>\n",
       "  <tbody>\n",
       "    <tr>\n",
       "      <th>0</th>\n",
       "      <td>Michael W. Smith</td>\n",
       "      <td>All I Want</td>\n",
       "      <td>all i have in this world  \\r is fire from abov...</td>\n",
       "    </tr>\n",
       "    <tr>\n",
       "      <th>1</th>\n",
       "      <td>Jimi Hendrix</td>\n",
       "      <td>Purple Haze</td>\n",
       "      <td>purple haze, all in my brain  \\r lately things...</td>\n",
       "    </tr>\n",
       "    <tr>\n",
       "      <th>2</th>\n",
       "      <td>Meat Loaf</td>\n",
       "      <td>Original Sin</td>\n",
       "      <td>i've been looking for an original sin.  \\r one...</td>\n",
       "    </tr>\n",
       "    <tr>\n",
       "      <th>3</th>\n",
       "      <td>Gordon Lightfoot</td>\n",
       "      <td>Daylight Katy</td>\n",
       "      <td>she walks be the sea where the seaworld is  \\r...</td>\n",
       "    </tr>\n",
       "    <tr>\n",
       "      <th>4</th>\n",
       "      <td>Dire Straits</td>\n",
       "      <td>On Every Street</td>\n",
       "      <td>there's gotta be a record of you someplace  \\r...</td>\n",
       "    </tr>\n",
       "    <tr>\n",
       "      <th>...</th>\n",
       "      <td>...</td>\n",
       "      <td>...</td>\n",
       "      <td>...</td>\n",
       "    </tr>\n",
       "    <tr>\n",
       "      <th>4995</th>\n",
       "      <td>John McDermott</td>\n",
       "      <td>Barbara Allan</td>\n",
       "      <td>barbara allan to bill and anne mulloy of calga...</td>\n",
       "    </tr>\n",
       "    <tr>\n",
       "      <th>4996</th>\n",
       "      <td>Zebrahead</td>\n",
       "      <td>The Hell That Is My Life</td>\n",
       "      <td>i.  \\r i look but never touch  \\r she says i d...</td>\n",
       "    </tr>\n",
       "    <tr>\n",
       "      <th>4997</th>\n",
       "      <td>George Michael</td>\n",
       "      <td>Cowboys And Angels</td>\n",
       "      <td>when your heart's in someone else's hands  \\r ...</td>\n",
       "    </tr>\n",
       "    <tr>\n",
       "      <th>4998</th>\n",
       "      <td>Foo Fighters</td>\n",
       "      <td>Stacked Actors</td>\n",
       "      <td>oh mirror mirror  \\r you're coming in clear  \\...</td>\n",
       "    </tr>\n",
       "    <tr>\n",
       "      <th>4999</th>\n",
       "      <td>Within Temptation</td>\n",
       "      <td>The Other Half (Of Me)</td>\n",
       "      <td>over the hills lies a new beginning, over the ...</td>\n",
       "    </tr>\n",
       "  </tbody>\n",
       "</table>\n",
       "<p>5000 rows × 3 columns</p>\n",
       "</div>"
      ],
      "text/plain": [
       "                 artist                      song  \\\n",
       "0      Michael W. Smith                All I Want   \n",
       "1          Jimi Hendrix               Purple Haze   \n",
       "2             Meat Loaf              Original Sin   \n",
       "3      Gordon Lightfoot             Daylight Katy   \n",
       "4          Dire Straits           On Every Street   \n",
       "...                 ...                       ...   \n",
       "4995     John McDermott             Barbara Allan   \n",
       "4996          Zebrahead  The Hell That Is My Life   \n",
       "4997     George Michael        Cowboys And Angels   \n",
       "4998       Foo Fighters            Stacked Actors   \n",
       "4999  Within Temptation    The Other Half (Of Me)   \n",
       "\n",
       "                                                   text  \n",
       "0     all i have in this world  \\r is fire from abov...  \n",
       "1     purple haze, all in my brain  \\r lately things...  \n",
       "2     i've been looking for an original sin.  \\r one...  \n",
       "3     she walks be the sea where the seaworld is  \\r...  \n",
       "4     there's gotta be a record of you someplace  \\r...  \n",
       "...                                                 ...  \n",
       "4995  barbara allan to bill and anne mulloy of calga...  \n",
       "4996  i.  \\r i look but never touch  \\r she says i d...  \n",
       "4997  when your heart's in someone else's hands  \\r ...  \n",
       "4998  oh mirror mirror  \\r you're coming in clear  \\...  \n",
       "4999  over the hills lies a new beginning, over the ...  \n",
       "\n",
       "[5000 rows x 3 columns]"
      ]
     },
     "execution_count": 15,
     "metadata": {},
     "output_type": "execute_result"
    }
   ],
   "source": [
    "df"
   ]
  },
  {
   "cell_type": "code",
   "execution_count": 17,
   "id": "c1f6967b-05cd-41c6-848d-5923f41b6205",
   "metadata": {},
   "outputs": [
    {
     "name": "stdout",
     "output_type": "stream",
     "text": [
      "Requirement already satisfied: nltk in c:\\users\\vinay\\appdata\\local\\programs\\python\\python312\\lib\\site-packages (3.8.1)Note: you may need to restart the kernel to use updated packages.\n",
      "\n",
      "Requirement already satisfied: click in c:\\users\\vinay\\appdata\\local\\programs\\python\\python312\\lib\\site-packages (from nltk) (8.1.7)\n",
      "Requirement already satisfied: joblib in c:\\users\\vinay\\appdata\\local\\programs\\python\\python312\\lib\\site-packages (from nltk) (1.4.2)\n",
      "Requirement already satisfied: regex>=2021.8.3 in c:\\users\\vinay\\appdata\\local\\programs\\python\\python312\\lib\\site-packages (from nltk) (2024.5.15)\n",
      "Requirement already satisfied: tqdm in c:\\users\\vinay\\appdata\\local\\programs\\python\\python312\\lib\\site-packages (from nltk) (4.66.1)\n",
      "Requirement already satisfied: colorama in c:\\users\\vinay\\appdata\\local\\programs\\python\\python312\\lib\\site-packages (from click->nltk) (0.4.6)\n"
     ]
    },
    {
     "name": "stderr",
     "output_type": "stream",
     "text": [
      "\n",
      "[notice] A new release of pip is available: 24.0 -> 24.2\n",
      "[notice] To update, run: C:\\Users\\vinay\\AppData\\Local\\Programs\\Python\\Python312\\python.exe -m pip install --upgrade pip\n"
     ]
    },
    {
     "ename": "NameError",
     "evalue": "name 'nltk' is not defined",
     "output_type": "error",
     "traceback": [
      "\u001b[1;31m---------------------------------------------------------------------------\u001b[0m",
      "\u001b[1;31mNameError\u001b[0m                                 Traceback (most recent call last)",
      "Cell \u001b[1;32mIn[17], line 2\u001b[0m\n\u001b[0;32m      1\u001b[0m get_ipython()\u001b[38;5;241m.\u001b[39mrun_line_magic(\u001b[38;5;124m'\u001b[39m\u001b[38;5;124mpip\u001b[39m\u001b[38;5;124m'\u001b[39m, \u001b[38;5;124m'\u001b[39m\u001b[38;5;124minstall nltk\u001b[39m\u001b[38;5;124m'\u001b[39m)\n\u001b[1;32m----> 2\u001b[0m \u001b[43mnltk\u001b[49m\u001b[38;5;241m.\u001b[39mdownload(\u001b[38;5;124m'\u001b[39m\u001b[38;5;124mpunkt\u001b[39m\u001b[38;5;124m'\u001b[39m)\n",
      "\u001b[1;31mNameError\u001b[0m: name 'nltk' is not defined"
     ]
    }
   ],
   "source": [
    "%pip install nltk\n",
    "nltk.download('punkt')"
   ]
  },
  {
   "cell_type": "code",
   "execution_count": 18,
   "id": "a4543f13-1416-43cc-9335-00fd73816392",
   "metadata": {},
   "outputs": [],
   "source": [
    "import nltk\n",
    "from nltk.stem.porter import PorterStemmer\n",
    "stemmer = PorterStemmer()\n",
    "\n",
    "def tokenization(txt):\n",
    "    tokens = nltk.word_tokenize(txt)\n",
    "    stemming = [stemmer.stem(w) for w in tokens]\n",
    "    return \" \".join(stemming)"
   ]
  },
  {
   "cell_type": "code",
   "execution_count": 19,
   "id": "19941905-7548-4a00-94d9-5268f9898f98",
   "metadata": {},
   "outputs": [
    {
     "data": {
      "text/plain": [
       "'you are beauti , beauti'"
      ]
     },
     "execution_count": 19,
     "metadata": {},
     "output_type": "execute_result"
    }
   ],
   "source": [
    "tokenization(\"you are beautiful,beauty\")"
   ]
  },
  {
   "cell_type": "code",
   "execution_count": 21,
   "id": "42437b8a-78a3-47d9-8dba-923b09304282",
   "metadata": {},
   "outputs": [],
   "source": [
    "df['text']=df['text'].apply(lambda x: tokenization(x))"
   ]
  },
  {
   "cell_type": "code",
   "execution_count": 22,
   "id": "bba0f812-1818-4119-9e1d-318f6cabb169",
   "metadata": {},
   "outputs": [],
   "source": [
    "from sklearn.feature_extraction.text import TfidfVectorizer\n",
    "from sklearn.metrics.pairwise import cosine_similarity"
   ]
  },
  {
   "cell_type": "code",
   "execution_count": 23,
   "id": "4bc35e6e-2f27-4fc6-97d2-8538de8e46c6",
   "metadata": {},
   "outputs": [],
   "source": [
    "tfidvector =TfidfVectorizer(analyzer='word',stop_words='english')\n",
    "matrix =tfidvector.fit_transform(df['text'])\n",
    "similarity =cosine_similarity(matrix)"
   ]
  },
  {
   "cell_type": "code",
   "execution_count": 24,
   "id": "31e4eaf4-4001-4db2-847a-68c14bbe0cca",
   "metadata": {},
   "outputs": [
    {
     "data": {
      "text/plain": [
       "array([1.        , 0.03045501, 0.06458645, ..., 0.05190825, 0.10472483,\n",
       "       0.0675472 ])"
      ]
     },
     "execution_count": 24,
     "metadata": {},
     "output_type": "execute_result"
    }
   ],
   "source": [
    "similarity[0]"
   ]
  },
  {
   "cell_type": "code",
   "execution_count": null,
   "id": "1b673a83-2cd5-417a-a6c3-e8c30115c6ee",
   "metadata": {},
   "outputs": [],
   "source": []
  },
  {
   "cell_type": "code",
   "execution_count": 25,
   "id": "f8b0fa9b-1c19-43c8-8501-6436f1d659fb",
   "metadata": {},
   "outputs": [
    {
     "data": {
      "text/html": [
       "<div>\n",
       "<style scoped>\n",
       "    .dataframe tbody tr th:only-of-type {\n",
       "        vertical-align: middle;\n",
       "    }\n",
       "\n",
       "    .dataframe tbody tr th {\n",
       "        vertical-align: top;\n",
       "    }\n",
       "\n",
       "    .dataframe thead th {\n",
       "        text-align: right;\n",
       "    }\n",
       "</style>\n",
       "<table border=\"1\" class=\"dataframe\">\n",
       "  <thead>\n",
       "    <tr style=\"text-align: right;\">\n",
       "      <th></th>\n",
       "      <th>artist</th>\n",
       "      <th>song</th>\n",
       "      <th>text</th>\n",
       "    </tr>\n",
       "  </thead>\n",
       "  <tbody>\n",
       "  </tbody>\n",
       "</table>\n",
       "</div>"
      ],
      "text/plain": [
       "Empty DataFrame\n",
       "Columns: [artist, song, text]\n",
       "Index: []"
      ]
     },
     "execution_count": 25,
     "metadata": {},
     "output_type": "execute_result"
    }
   ],
   "source": [
    "df[df['song'] == 'Sing Me Back Home']"
   ]
  },
  {
   "cell_type": "code",
   "execution_count": 26,
   "id": "94cf14f8-1f96-4cde-bf1a-31cb260e6aae",
   "metadata": {},
   "outputs": [
    {
     "ename": "IndexError",
     "evalue": "index 0 is out of bounds for axis 0 with size 0",
     "output_type": "error",
     "traceback": [
      "\u001b[1;31m---------------------------------------------------------------------------\u001b[0m",
      "\u001b[1;31mIndexError\u001b[0m                                Traceback (most recent call last)",
      "Cell \u001b[1;32mIn[26], line 1\u001b[0m\n\u001b[1;32m----> 1\u001b[0m \u001b[43mdf\u001b[49m\u001b[43m[\u001b[49m\u001b[43mdf\u001b[49m\u001b[43m[\u001b[49m\u001b[38;5;124;43m'\u001b[39;49m\u001b[38;5;124;43msong\u001b[39;49m\u001b[38;5;124;43m'\u001b[39;49m\u001b[43m]\u001b[49m\u001b[43m \u001b[49m\u001b[38;5;241;43m==\u001b[39;49m\u001b[43m \u001b[49m\u001b[38;5;124;43m'\u001b[39;49m\u001b[38;5;124;43mSing Me Back Home\u001b[39;49m\u001b[38;5;124;43m'\u001b[39;49m\u001b[43m]\u001b[49m\u001b[38;5;241;43m.\u001b[39;49m\u001b[43mindex\u001b[49m\u001b[43m[\u001b[49m\u001b[38;5;241;43m0\u001b[39;49m\u001b[43m]\u001b[49m\n",
      "File \u001b[1;32m~\\AppData\\Local\\Programs\\Python\\Python312\\Lib\\site-packages\\pandas\\core\\indexes\\base.py:5365\u001b[0m, in \u001b[0;36mIndex.__getitem__\u001b[1;34m(self, key)\u001b[0m\n\u001b[0;32m   5362\u001b[0m \u001b[38;5;28;01mif\u001b[39;00m is_integer(key) \u001b[38;5;129;01mor\u001b[39;00m is_float(key):\n\u001b[0;32m   5363\u001b[0m     \u001b[38;5;66;03m# GH#44051 exclude bool, which would return a 2d ndarray\u001b[39;00m\n\u001b[0;32m   5364\u001b[0m     key \u001b[38;5;241m=\u001b[39m com\u001b[38;5;241m.\u001b[39mcast_scalar_indexer(key)\n\u001b[1;32m-> 5365\u001b[0m     \u001b[38;5;28;01mreturn\u001b[39;00m \u001b[43mgetitem\u001b[49m\u001b[43m(\u001b[49m\u001b[43mkey\u001b[49m\u001b[43m)\u001b[49m\n\u001b[0;32m   5367\u001b[0m \u001b[38;5;28;01mif\u001b[39;00m \u001b[38;5;28misinstance\u001b[39m(key, \u001b[38;5;28mslice\u001b[39m):\n\u001b[0;32m   5368\u001b[0m     \u001b[38;5;66;03m# This case is separated from the conditional above to avoid\u001b[39;00m\n\u001b[0;32m   5369\u001b[0m     \u001b[38;5;66;03m# pessimization com.is_bool_indexer and ndim checks.\u001b[39;00m\n\u001b[0;32m   5370\u001b[0m     \u001b[38;5;28;01mreturn\u001b[39;00m \u001b[38;5;28mself\u001b[39m\u001b[38;5;241m.\u001b[39m_getitem_slice(key)\n",
      "\u001b[1;31mIndexError\u001b[0m: index 0 is out of bounds for axis 0 with size 0"
     ]
    }
   ],
   "source": [
    "df[df['song'] == 'Sing Me Back Home'].index[0]"
   ]
  },
  {
   "cell_type": "code",
   "execution_count": 27,
   "id": "4e7af745-ec87-4190-9069-4dff64dceb3c",
   "metadata": {},
   "outputs": [
    {
     "data": {
      "text/html": [
       "<div>\n",
       "<style scoped>\n",
       "    .dataframe tbody tr th:only-of-type {\n",
       "        vertical-align: middle;\n",
       "    }\n",
       "\n",
       "    .dataframe tbody tr th {\n",
       "        vertical-align: top;\n",
       "    }\n",
       "\n",
       "    .dataframe thead th {\n",
       "        text-align: right;\n",
       "    }\n",
       "</style>\n",
       "<table border=\"1\" class=\"dataframe\">\n",
       "  <thead>\n",
       "    <tr style=\"text-align: right;\">\n",
       "      <th></th>\n",
       "      <th>artist</th>\n",
       "      <th>song</th>\n",
       "      <th>text</th>\n",
       "    </tr>\n",
       "  </thead>\n",
       "  <tbody>\n",
       "    <tr>\n",
       "      <th>0</th>\n",
       "      <td>Michael W. Smith</td>\n",
       "      <td>All I Want</td>\n",
       "      <td>all i have in thi world is fire from abov all ...</td>\n",
       "    </tr>\n",
       "    <tr>\n",
       "      <th>1</th>\n",
       "      <td>Jimi Hendrix</td>\n",
       "      <td>Purple Haze</td>\n",
       "      <td>purpl haze , all in my brain late thing they d...</td>\n",
       "    </tr>\n",
       "    <tr>\n",
       "      <th>2</th>\n",
       "      <td>Meat Loaf</td>\n",
       "      <td>Original Sin</td>\n",
       "      <td>i 've been look for an origin sin . one with a...</td>\n",
       "    </tr>\n",
       "    <tr>\n",
       "      <th>3</th>\n",
       "      <td>Gordon Lightfoot</td>\n",
       "      <td>Daylight Katy</td>\n",
       "      <td>she walk be the sea where the seaworld is and ...</td>\n",
       "    </tr>\n",
       "    <tr>\n",
       "      <th>4</th>\n",
       "      <td>Dire Straits</td>\n",
       "      <td>On Every Street</td>\n",
       "      <td>there 's got ta be a record of you someplac yo...</td>\n",
       "    </tr>\n",
       "    <tr>\n",
       "      <th>5</th>\n",
       "      <td>LL Cool J</td>\n",
       "      <td>New York Gangstas</td>\n",
       "      <td>[ choru : ] onc i live a life of a millionair ...</td>\n",
       "    </tr>\n",
       "    <tr>\n",
       "      <th>6</th>\n",
       "      <td>Kelly Family</td>\n",
       "      <td>Staying Alive</td>\n",
       "      <td>pick up yourself joe tell all the rest there i...</td>\n",
       "    </tr>\n",
       "    <tr>\n",
       "      <th>7</th>\n",
       "      <td>Backstreet Boys</td>\n",
       "      <td>If I Knew Then</td>\n",
       "      <td>life should be like a game of card you make a ...</td>\n",
       "    </tr>\n",
       "  </tbody>\n",
       "</table>\n",
       "</div>"
      ],
      "text/plain": [
       "             artist               song  \\\n",
       "0  Michael W. Smith         All I Want   \n",
       "1      Jimi Hendrix        Purple Haze   \n",
       "2         Meat Loaf       Original Sin   \n",
       "3  Gordon Lightfoot      Daylight Katy   \n",
       "4      Dire Straits    On Every Street   \n",
       "5         LL Cool J  New York Gangstas   \n",
       "6      Kelly Family      Staying Alive   \n",
       "7   Backstreet Boys     If I Knew Then   \n",
       "\n",
       "                                                text  \n",
       "0  all i have in thi world is fire from abov all ...  \n",
       "1  purpl haze , all in my brain late thing they d...  \n",
       "2  i 've been look for an origin sin . one with a...  \n",
       "3  she walk be the sea where the seaworld is and ...  \n",
       "4  there 's got ta be a record of you someplac yo...  \n",
       "5  [ choru : ] onc i live a life of a millionair ...  \n",
       "6  pick up yourself joe tell all the rest there i...  \n",
       "7  life should be like a game of card you make a ...  "
      ]
     },
     "execution_count": 27,
     "metadata": {},
     "output_type": "execute_result"
    }
   ],
   "source": [
    "df.head(8)"
   ]
  },
  {
   "cell_type": "code",
   "execution_count": 29,
   "id": "b67b08f0-d182-42d0-808f-81f93ee4c1eb",
   "metadata": {},
   "outputs": [
    {
     "name": "stdout",
     "output_type": "stream",
     "text": [
      "The song 'Sing Me Back Home' was not found in the DataFrame.\n"
     ]
    }
   ],
   "source": [
    "def recommendation(song_title):\n",
    "    # Check if the song exists in the DataFrame\n",
    "    filtered_df = df[df['song'] == song_title]\n",
    "    \n",
    "    if filtered_df.empty:\n",
    "        return f\"The song '{song_title}' was not found in the DataFrame.\"\n",
    "    \n",
    "    idx = filtered_df.index[0]\n",
    "    distances = sorted(list(enumerate(similarity[idx])), reverse=True, key=lambda x: x[1])\n",
    "    \n",
    "    songs = []\n",
    "    for m_id in distances[1:5]:\n",
    "        songs.append(df.iloc[m_id[0]].song)\n",
    "        \n",
    "    return songs\n",
    "\n",
    "# Example usage\n",
    "print(recommendation('Sing Me Back Home'))\n"
   ]
  },
  {
   "cell_type": "code",
   "execution_count": 58,
   "id": "c50d2714-b61d-40f7-b553-9c4c6e14f58a",
   "metadata": {},
   "outputs": [],
   "source": [
    "#def recommendation(song_df):\n",
    "   # idx = df[df['song'] == song_df].index[0]\n",
    "   # distances = sorted(list(enumerate(similarity[idx])),reverse=True,key=lambda x:x[1])\n",
    "    \n",
    "    #songs = []\n",
    "    #for m_id in distances[1:21]:\n",
    "     #   songs.append(df.iloc[m_id[0]].song)\n",
    "        \n",
    "   # return songs"
   ]
  },
  {
   "cell_type": "code",
   "execution_count": null,
   "id": "da236d89-9441-4768-90b6-9ea94c06befb",
   "metadata": {},
   "outputs": [],
   "source": []
  },
  {
   "cell_type": "code",
   "execution_count": 60,
   "id": "2214135a-d46f-4fa6-9f16-2c2de8e5e0ca",
   "metadata": {},
   "outputs": [
    {
     "ename": "IndexError",
     "evalue": "index 0 is out of bounds for axis 0 with size 0",
     "output_type": "error",
     "traceback": [
      "\u001b[1;31m---------------------------------------------------------------------------\u001b[0m",
      "\u001b[1;31mIndexError\u001b[0m                                Traceback (most recent call last)",
      "Cell \u001b[1;32mIn[60], line 1\u001b[0m\n\u001b[1;32m----> 1\u001b[0m \u001b[43mrecommendation\u001b[49m\u001b[43m(\u001b[49m\u001b[38;5;124;43m'\u001b[39;49m\u001b[38;5;124;43mWaiting for The Man\u001b[39;49m\u001b[38;5;124;43m'\u001b[39;49m\u001b[43m)\u001b[49m\n",
      "Cell \u001b[1;32mIn[58], line 2\u001b[0m, in \u001b[0;36mrecommendation\u001b[1;34m(song_df)\u001b[0m\n\u001b[0;32m      1\u001b[0m \u001b[38;5;28;01mdef\u001b[39;00m \u001b[38;5;21mrecommendation\u001b[39m(song_df):\n\u001b[1;32m----> 2\u001b[0m     idx \u001b[38;5;241m=\u001b[39m \u001b[43mdf\u001b[49m\u001b[43m[\u001b[49m\u001b[43mdf\u001b[49m\u001b[43m[\u001b[49m\u001b[38;5;124;43m'\u001b[39;49m\u001b[38;5;124;43msong\u001b[39;49m\u001b[38;5;124;43m'\u001b[39;49m\u001b[43m]\u001b[49m\u001b[43m \u001b[49m\u001b[38;5;241;43m==\u001b[39;49m\u001b[43m \u001b[49m\u001b[43msong_df\u001b[49m\u001b[43m]\u001b[49m\u001b[38;5;241;43m.\u001b[39;49m\u001b[43mindex\u001b[49m\u001b[43m[\u001b[49m\u001b[38;5;241;43m0\u001b[39;49m\u001b[43m]\u001b[49m\n\u001b[0;32m      3\u001b[0m     distances \u001b[38;5;241m=\u001b[39m \u001b[38;5;28msorted\u001b[39m(\u001b[38;5;28mlist\u001b[39m(\u001b[38;5;28menumerate\u001b[39m(similarity[idx])),reverse\u001b[38;5;241m=\u001b[39m\u001b[38;5;28;01mTrue\u001b[39;00m,key\u001b[38;5;241m=\u001b[39m\u001b[38;5;28;01mlambda\u001b[39;00m x:x[\u001b[38;5;241m1\u001b[39m])\n\u001b[0;32m      5\u001b[0m     songs \u001b[38;5;241m=\u001b[39m []\n",
      "File \u001b[1;32m~\\AppData\\Local\\Programs\\Python\\Python312\\Lib\\site-packages\\pandas\\core\\indexes\\base.py:5365\u001b[0m, in \u001b[0;36mIndex.__getitem__\u001b[1;34m(self, key)\u001b[0m\n\u001b[0;32m   5362\u001b[0m \u001b[38;5;28;01mif\u001b[39;00m is_integer(key) \u001b[38;5;129;01mor\u001b[39;00m is_float(key):\n\u001b[0;32m   5363\u001b[0m     \u001b[38;5;66;03m# GH#44051 exclude bool, which would return a 2d ndarray\u001b[39;00m\n\u001b[0;32m   5364\u001b[0m     key \u001b[38;5;241m=\u001b[39m com\u001b[38;5;241m.\u001b[39mcast_scalar_indexer(key)\n\u001b[1;32m-> 5365\u001b[0m     \u001b[38;5;28;01mreturn\u001b[39;00m \u001b[43mgetitem\u001b[49m\u001b[43m(\u001b[49m\u001b[43mkey\u001b[49m\u001b[43m)\u001b[49m\n\u001b[0;32m   5367\u001b[0m \u001b[38;5;28;01mif\u001b[39;00m \u001b[38;5;28misinstance\u001b[39m(key, \u001b[38;5;28mslice\u001b[39m):\n\u001b[0;32m   5368\u001b[0m     \u001b[38;5;66;03m# This case is separated from the conditional above to avoid\u001b[39;00m\n\u001b[0;32m   5369\u001b[0m     \u001b[38;5;66;03m# pessimization com.is_bool_indexer and ndim checks.\u001b[39;00m\n\u001b[0;32m   5370\u001b[0m     \u001b[38;5;28;01mreturn\u001b[39;00m \u001b[38;5;28mself\u001b[39m\u001b[38;5;241m.\u001b[39m_getitem_slice(key)\n",
      "\u001b[1;31mIndexError\u001b[0m: index 0 is out of bounds for axis 0 with size 0"
     ]
    }
   ],
   "source": [
    "#recommendation('Waiting for The Man')"
   ]
  },
  {
   "cell_type": "code",
   "execution_count": 30,
   "id": "7ed64593-a539-4ec0-88b3-5ff81ac9f17a",
   "metadata": {},
   "outputs": [],
   "source": [
    "import pickle\n",
    "pickle.dump(similarity,open('similarity.pkl','wb'))\n",
    "pickle.dump(df,open('df.pkl','wb'))"
   ]
  },
  {
   "cell_type": "code",
   "execution_count": null,
   "id": "4e9b17f0-6271-4c36-8b90-3efbdd0e37db",
   "metadata": {},
   "outputs": [],
   "source": []
  }
 ],
 "metadata": {
  "kernelspec": {
   "display_name": "Python 3 (ipykernel)",
   "language": "python",
   "name": "python3"
  },
  "language_info": {
   "codemirror_mode": {
    "name": "ipython",
    "version": 3
   },
   "file_extension": ".py",
   "mimetype": "text/x-python",
   "name": "python",
   "nbconvert_exporter": "python",
   "pygments_lexer": "ipython3",
   "version": "3.12.0"
  }
 },
 "nbformat": 4,
 "nbformat_minor": 5
}
